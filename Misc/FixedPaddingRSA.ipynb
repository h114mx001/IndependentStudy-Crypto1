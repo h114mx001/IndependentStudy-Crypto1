{
 "cells": [
  {
   "attachments": {},
   "cell_type": "markdown",
   "metadata": {},
   "source": [
    "Case: AES-128 key is padded before RSA. The padding scheme is $m = 2^{1024} - 2^{128} + K$. Could be solved via Coppersmith's Method. "
   ]
  },
  {
   "cell_type": "code",
   "execution_count": 11,
   "metadata": {
    "vscode": {
     "languageId": "python"
    }
   },
   "outputs": [
    {
     "name": "stdout",
     "output_type": "stream",
     "text": [
      "280107676751743419666834949108449375419\n",
      "61200931819228902582199139710175584202833338209469335227890889092818171395822525564850192606828358939644154590979221307965162102358664906041892807931208381667691121562924252905539771642238167385242832477728384179776936269279149488282182252480124662231274625997852884594113330851783255313695655296347128214284\n"
     ]
    }
   ],
   "source": [
    "from Crypto.Util.number import *\n",
    "\n",
    "e = 3\n",
    "p, q = getPrime(512), getPrime(512)\n",
    "n = p*q \n",
    "key = getRandomNBitInteger(128)\n",
    "# print(key)\n",
    "m = 2**1024 - 2**128 + key\n",
    "c = pow(m, e, n)\n",
    "print(c)"
   ]
  },
  {
   "cell_type": "code",
   "execution_count": 13,
   "metadata": {
    "vscode": {
     "languageId": "python"
    }
   },
   "outputs": [
    {
     "name": "stdout",
     "output_type": "stream",
     "text": [
      "280107676751743419666834949108449375419\n"
     ]
    }
   ],
   "source": [
    "K = Zmod(n)\n",
    "P.<x> = PolynomialRing(K, implementation = 'NTL')\n",
    "f = (2^1024 - 2^128 + x)^e - c \n",
    "keyBroken = f.small_roots()[0]\n",
    "assert keyBroken == key\n",
    "print(keyBroken)"
   ]
  }
 ],
 "metadata": {
  "kernelspec": {
   "display_name": "SageMath 9.6",
   "language": "sage",
   "name": "sagemath"
  },
  "language_info": {
   "codemirror_mode": {
    "name": "ipython",
    "version": 3
   },
   "file_extension": ".py",
   "mimetype": "text/x-python",
   "name": "sage",
   "nbconvert_exporter": "python",
   "pygments_lexer": "ipython3",
   "version": "3.11.1"
  },
  "orig_nbformat": 4,
  "vscode": {
   "interpreter": {
    "hash": "e7370f93d1d0cde622a1f8e1c04877d8463912d04d973331ad4851f04de6915a"
   }
  }
 },
 "nbformat": 4,
 "nbformat_minor": 2
}
