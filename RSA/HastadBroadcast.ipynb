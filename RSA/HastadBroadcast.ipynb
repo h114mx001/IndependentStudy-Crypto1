{
 "cells": [
  {
   "cell_type": "code",
   "execution_count": 3,
   "metadata": {
    "vscode": {
     "languageId": "python"
    }
   },
   "outputs": [],
   "source": [
    "# Implementation of Hastad's Broadcast attack, normal version\n",
    "def Hastad(ciphertext, n):\n",
    "    x = crt(ciphertext, n)\n",
    "    return real_nth_root(x, e)"
   ]
  },
  {
   "cell_type": "code",
   "execution_count": 6,
   "metadata": {
    "vscode": {
     "languageId": "python"
    }
   },
   "outputs": [
    {
     "name": "stdout",
     "output_type": "stream",
     "text": [
      "23333333333333333333333333333333333333333333\n"
     ]
    }
   ],
   "source": [
    "n1 = 15531155256715702473857617704486808708718149144340218293989572553\n",
    "n2 = 4665876664449238167503227140673941051177208287344383452644505383\n",
    "n3 = 21183715744016961916768204882841616031088804561756503460509763179\n",
    "e = 3\n",
    "m = 23333333333333333333333333333333333333333333\n",
    "c1 = 3545246357420027751080801513596354805792507454079198980994208613\n",
    "c2 = 2707010410568402623621857261477803260225040847370109587024036966\n",
    "c3 = 9988366267699268191504634643058847989157961583452909799090445547\n",
    "\n",
    "n = [n1, n2, n3]\n",
    "c = [c1, c2, c3]\n",
    "message = Hastad(c, n)\n",
    "assert pow(message, e, n1) == c1\n",
    "print(message)"
   ]
  }
 ],
 "metadata": {
  "kernelspec": {
   "display_name": "SageMath 9.6",
   "language": "sage",
   "name": "sagemath"
  },
  "language_info": {
   "codemirror_mode": {
    "name": "ipython",
    "version": 3
   },
   "file_extension": ".py",
   "mimetype": "text/x-python",
   "name": "sage",
   "nbconvert_exporter": "python",
   "pygments_lexer": "ipython3",
   "version": "3.11.1"
  },
  "orig_nbformat": 4,
  "vscode": {
   "interpreter": {
    "hash": "e7370f93d1d0cde622a1f8e1c04877d8463912d04d973331ad4851f04de6915a"
   }
  }
 },
 "nbformat": 4,
 "nbformat_minor": 2
}
