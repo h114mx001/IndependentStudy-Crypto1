{
 "cells": [
  {
   "cell_type": "code",
   "execution_count": 41,
   "metadata": {
    "vscode": {
     "languageId": "python"
    }
   },
   "outputs": [],
   "source": [
    "def wiener(n, e, c):\n",
    "    '''\n",
    "    Solve for d in c = m^e mod n using the Wiener attack.\n",
    "    '''\n",
    "    # Calculate continued fraction expansion of e/n\n",
    "    frac = continued_fraction(e / n)\n",
    "    convergents = [[x.numerator(), x.denominator()] for x in frac.convergents()]\n",
    "    # Iterate over convergents\n",
    "    for (k, d) in convergents:\n",
    "        # Check if d is actually an integer\n",
    "        if k == 0 or d%2 == 0 or e*d % k != 1:\n",
    "            continue\n",
    "        phi = (e*d - 1)/k\n",
    "        # Create the polynomial\n",
    "        x = PolynomialRing(RationalField(), 'x').gen()\n",
    "        f = x^2 - (n-phi+1)*x + n\n",
    "        roots = f.roots()\n",
    "        # Check if polynomial as two roots\n",
    "        if len(roots) != 2:\n",
    "            continue\n",
    "        # Check if roots of the polynomial are p and q\n",
    "        p,q = int(roots[0][0]), int(roots[1][0])\n",
    "        if p*q == n:\n",
    "            return d\n",
    "    # No solution found\n",
    "    return None"
   ]
  },
  {
   "cell_type": "code",
   "execution_count": 42,
   "metadata": {
    "vscode": {
     "languageId": "python"
    }
   },
   "outputs": [
    {
     "name": "stdout",
     "output_type": "stream",
     "text": [
      "7\n"
     ]
    }
   ],
   "source": [
    "n = 6727075990400738687345725133831068548505159909089226909308151105405617384093373931141833301653602476784414065504536979164089581789354173719785815972324079\n",
    "e = 4805054278857670490961232238450763248932257077920876363791536503861155274352289134505009741863918247921515546177391127175463544741368225721957798416107743\n",
    "c = 5928120944877154092488159606792758283490469364444892167942345801713373962617628757053412232636219967675256510422984948872954949616521392542703915478027634\n",
    "print(wiener(n, e, c))"
   ]
  }
 ],
 "metadata": {
  "kernelspec": {
   "display_name": "SageMath 9.6",
   "language": "sage",
   "name": "sagemath"
  },
  "language_info": {
   "codemirror_mode": {
    "name": "ipython",
    "version": 3
   },
   "file_extension": ".py",
   "mimetype": "text/x-python",
   "name": "sage",
   "nbconvert_exporter": "python",
   "pygments_lexer": "ipython3",
   "version": "3.11.1"
  },
  "orig_nbformat": 4,
  "vscode": {
   "interpreter": {
    "hash": "e7370f93d1d0cde622a1f8e1c04877d8463912d04d973331ad4851f04de6915a"
   }
  }
 },
 "nbformat": 4,
 "nbformat_minor": 2
}
