{
 "cells": [
  {
   "cell_type": "code",
   "execution_count": 7,
   "metadata": {},
   "outputs": [],
   "source": [
    "def PollardP_1(N, B=0):\n",
    "    '''\n",
    "        Find factoring of a semiprime n = pq, where at least p-1 or q-1 has some small prime factors.\n",
    "    '''\n",
    "    if not B: B = ceil(sqrt(N))\n",
    "    a = Integers(N).random_element()\n",
    "    b = a\n",
    "    for ell in primes(B):\n",
    "        q = 1\n",
    "        while q < N: \n",
    "            q *= ell \n",
    "        b = b^q\n",
    "        if b == 1:  \n",
    "            return 0\n",
    "        d = gcd(b.lift()-1, N)\n",
    "        if d > 1: \n",
    "            return d \n",
    "    return 0"
   ]
  },
  {
   "cell_type": "code",
   "execution_count": 11,
   "metadata": {},
   "outputs": [],
   "source": [
    "n = 10028219737\n",
    "p = PollardP_1(n)\n",
    "assert n % p == 0"
   ]
  }
 ],
 "metadata": {
  "kernelspec": {
   "display_name": "Python 3",
   "language": "python",
   "name": "python3"
  },
  "language_info": {
   "codemirror_mode": {
    "name": "ipython",
    "version": 3
   },
   "file_extension": ".py",
   "mimetype": "text/x-python",
   "name": "python",
   "nbconvert_exporter": "python",
   "pygments_lexer": "ipython3",
   "version": "3.11.1"
  },
  "orig_nbformat": 4,
  "vscode": {
   "interpreter": {
    "hash": "e7370f93d1d0cde622a1f8e1c04877d8463912d04d973331ad4851f04de6915a"
   }
  }
 },
 "nbformat": 4,
 "nbformat_minor": 2
}
