{
 "cells": [
  {
   "cell_type": "code",
   "execution_count": 51,
   "metadata": {},
   "outputs": [],
   "source": [
    "p = 6887\n",
    "E = EllipticCurve(Zmod(p), [14, 19])\n",
    "Point = E(1512, 3166)"
   ]
  },
  {
   "cell_type": "code",
   "execution_count": 67,
   "metadata": {},
   "outputs": [],
   "source": [
    "def pointAddition(point1, point2, p):\n",
    "    try:\n",
    "        res = point1 + point2 \n",
    "    except: \n",
    "        reciprocal = (point1[0] - point2[0]) % p \n",
    "        d = gcd(reciprocal, p)\n",
    "        return (0, 0, d)\n",
    "    return res\n",
    "\n",
    "def multiplication(k, point, curve, p):\n",
    "    r = curve(0, 1, 0) # null \n",
    "    tmp = point \n",
    "    while k > 0:\n",
    "        if k % 2 == 1:\n",
    "            r = pointAddition(r, tmp, p)\n",
    "            if r[2] > 1:\n",
    "                return r\n",
    "        tmp = pointAddition(tmp, tmp, p)\n",
    "        k //=2 \n",
    "    return r"
   ]
  },
  {
   "cell_type": "code",
   "execution_count": 68,
   "metadata": {},
   "outputs": [],
   "source": [
    "from sympy.ntheory import sieve \n",
    "from random import randint\n",
    "\n",
    "sieve._reset()\n",
    "\n",
    "def LenstraFactorization(n, bound):\n",
    "    sieve.extend(bound)\n",
    "    while True:\n",
    "        g = n \n",
    "        point = [0, 0]\n",
    "        a, b = 0, 0\n",
    "        while (g == n):\n",
    "            point = [randint(1, n - 1), randint(1, n - 1)]\n",
    "            a = randint(1, n - 1)\n",
    "            b = (point[1]^2 - point[0]^3 - a*point[0]) % n\n",
    "            g = gcd(4*a^3 + 27*b^2, n)\n",
    "        if g > 1:\n",
    "            return g\n",
    "        curve = EllipticCurve(Zmod(n), [a, b])\n",
    "        point = curve(point)\n",
    "        q = point\n",
    "        for p in sieve:\n",
    "            pp = p\n",
    "            while pp < bound: \n",
    "                q = multiplication(p, q, curve, n)\n",
    "                print(q)\n",
    "                if q[2] > 1:\n",
    "                    return gcd(q[2], n)\n",
    "                pp *= p\n",
    "        return False\n"
   ]
  },
  {
   "cell_type": "code",
   "execution_count": 69,
   "metadata": {},
   "outputs": [
    {
     "name": "stdout",
     "output_type": "stream",
     "text": [
      "(4441 : 2172 : 1)\n",
      "(2968 : 1877 : 1)\n",
      "(4504 : 235 : 1)\n",
      "(940 : 5852 : 1)\n",
      "(2849 : 1972 : 1)\n",
      "(5432 : 1697 : 1)\n",
      "(170 : 158 : 1)\n",
      "(1357 : 4936 : 1)\n",
      "(4773 : 5743 : 1)\n",
      "(4957 : 6112 : 1)\n",
      "(6588 : 6235 : 1)\n",
      "(4863 : 3210 : 1)\n",
      "(5190 : 3925 : 1)\n",
      "(970 : 1019 : 1)\n",
      "(206 : 5037 : 1)\n",
      "(1468 : 2901 : 1)\n",
      "(0, 0, 71)\n"
     ]
    },
    {
     "data": {
      "text/plain": [
       "71"
      ]
     },
     "execution_count": 69,
     "metadata": {},
     "output_type": "execute_result"
    }
   ],
   "source": [
    "LenstraFactorization(6887, 10000)"
   ]
  }
 ],
 "metadata": {
  "kernelspec": {
   "display_name": "SageMath 9.6",
   "language": "sage",
   "name": "sagemath"
  },
  "language_info": {
   "codemirror_mode": {
    "name": "ipython",
    "version": 3
   },
   "file_extension": ".py",
   "mimetype": "text/x-python",
   "name": "python",
   "nbconvert_exporter": "python",
   "pygments_lexer": "ipython3",
   "version": "3.11.1"
  },
  "orig_nbformat": 4
 },
 "nbformat": 4,
 "nbformat_minor": 2
}
