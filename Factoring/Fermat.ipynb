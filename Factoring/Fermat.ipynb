{
 "cells": [
  {
   "cell_type": "code",
   "execution_count": 3,
   "metadata": {},
   "outputs": [],
   "source": [
    "def Fermat(n):\n",
    "    '''\n",
    "        Factoring of semiprime n = pq if p-q is small\n",
    "    '''\n",
    "    a = ceil(sqrt(n))\n",
    "    b2 = a**2 - n\n",
    "    b = int(sqrt(b2))\n",
    "    while b**2 != b2:\n",
    "        a += 1\n",
    "        b2 = a**2 - n\n",
    "        b = int(sqrt(b2))\n",
    "    return a - b, a + b"
   ]
  },
  {
   "cell_type": "code",
   "execution_count": 5,
   "metadata": {},
   "outputs": [
    {
     "name": "stdout",
     "output_type": "stream",
     "text": [
      "(11939467364948975151484416370268547423590305333372980761295673848206744234614438558884252136737714571933134118926145033472024190850176923482670278624181447, 11939467364948975151484416370268547423590305333372980761295673848206744234614438558884252136737714571933134118926145033472024190850176923482670278624181593)\n"
     ]
    }
   ],
   "source": [
    "from Crypto.Util.number import getPrime, isPrime\n",
    "p = getPrime(512)\n",
    "q = p \n",
    "while True: \n",
    "    q += 1 \n",
    "    if isPrime(q):\n",
    "        break \n",
    "print(Fermat(p*q))"
   ]
  }
 ],
 "metadata": {
  "kernelspec": {
   "display_name": "SageMath 9.6",
   "language": "sage",
   "name": "sagemath"
  },
  "language_info": {
   "codemirror_mode": {
    "name": "ipython",
    "version": 3
   },
   "file_extension": ".py",
   "mimetype": "text/x-python",
   "name": "python",
   "nbconvert_exporter": "python",
   "pygments_lexer": "ipython3",
   "version": "3.11.1"
  },
  "orig_nbformat": 4,
  "vscode": {
   "interpreter": {
    "hash": "e7370f93d1d0cde622a1f8e1c04877d8463912d04d973331ad4851f04de6915a"
   }
  }
 },
 "nbformat": 4,
 "nbformat_minor": 2
}
