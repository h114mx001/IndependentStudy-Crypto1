{
 "cells": [
  {
   "cell_type": "code",
   "execution_count": 24,
   "metadata": {
    "vscode": {
     "languageId": "python"
    }
   },
   "outputs": [],
   "source": [
    "from Crypto.Util.number import *\n",
    "%run PohligHellman.ipynb"
   ]
  },
  {
   "cell_type": "code",
   "execution_count": 25,
   "metadata": {
    "vscode": {
     "languageId": "python"
    }
   },
   "outputs": [],
   "source": [
    "def safePrime(n):\n",
    "    while True: \n",
    "        p = getPrime(n)\n",
    "        if isPrime((p-1)//2):\n",
    "            return p"
   ]
  },
  {
   "cell_type": "code",
   "execution_count": 10,
   "metadata": {
    "vscode": {
     "languageId": "python"
    }
   },
   "outputs": [],
   "source": [
    "p = safePrime(512)"
   ]
  },
  {
   "cell_type": "code",
   "execution_count": 26,
   "metadata": {
    "vscode": {
     "languageId": "python"
    }
   },
   "outputs": [
    {
     "name": "stdout",
     "output_type": "stream",
     "text": [
      "2 7457542232215859656848820892117958971895322637397017803728761573181934890663400747923427057606857224142593255011614056848466722955013020479978771005505783 12471104795192737845274908805094050401621417515588797843080282212170018197420223726041607977629735117655586981026741320986409474010366470917557626360878163\n"
     ]
    }
   ],
   "source": [
    "g = 2\n",
    "x = getRandomRange(1, p-1)\n",
    "h = pow(g, x, p)\n",
    "print(g, h, p)"
   ]
  },
  {
   "cell_type": "code",
   "execution_count": 28,
   "metadata": {
    "vscode": {
     "languageId": "python"
    }
   },
   "outputs": [
    {
     "name": "stdout",
     "output_type": "stream",
     "text": [
      "4016661957972812460994012155712429607262373754661767765891555972866448078544764801514802590968861211018842145585178057570668415577307883896388443692358563\n",
      "4016661957972812460994012155712429607262373754661767765891555972866448078544764801514802590968861211018842145585178057570668415577307883896388443692358563\n"
     ]
    }
   ],
   "source": [
    "# Assuming we can ask Bob to calculate the exchange...\n",
    "p_smooth = 11520796732441878515027373358328216938283048199188491628006176039599126895829173510147739451884815667612904500823587381619486714035051906673720821163556657311958585660374139051567952188324884102442385219224493620823660444932593986100650360037352878445543646628098538099116078184566756291092367196511240004251792982479476655806091759279086274692942838381048910186636592077380073350162280464968139585924763388159814562289552926323602180142347053299426189205228246387\n",
    "n_smooth = p_smooth - 1\n",
    "h_smooth = pow(g, x, p_smooth)\n",
    "x_smooth = PohligHellman_ShortCut(g, h_smooth, p_smooth)\n",
    "print(x_smooth)\n",
    "print(x)"
   ]
  }
 ],
 "metadata": {
  "kernelspec": {
   "display_name": "SageMath 9.6",
   "language": "sage",
   "name": "sagemath"
  },
  "language_info": {
   "codemirror_mode": {
    "name": "ipython",
    "version": 3
   },
   "file_extension": ".py",
   "mimetype": "text/x-python",
   "name": "sage",
   "nbconvert_exporter": "python",
   "pygments_lexer": "ipython3",
   "version": "3.11.1"
  },
  "orig_nbformat": 4,
  "vscode": {
   "interpreter": {
    "hash": "e7370f93d1d0cde622a1f8e1c04877d8463912d04d973331ad4851f04de6915a"
   }
  }
 },
 "nbformat": 4,
 "nbformat_minor": 2
}
