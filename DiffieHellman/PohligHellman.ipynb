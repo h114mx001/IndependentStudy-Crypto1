{
 "cells": [
  {
   "cell_type": "code",
   "execution_count": 27,
   "metadata": {},
   "outputs": [],
   "source": [
    "def PohligHellman(g, h, p):\n",
    "    '''\n",
    "    Solve for x where g^x = h mod p\n",
    "    '''\n",
    "    factorList = list(factor(p-1))\n",
    "    X = [] \n",
    "    a = []\n",
    "    for q, e in factorList: \n",
    "        a.append(q^e)\n",
    "        # print(q, e)\n",
    "        A = g^((p-1)/(q^e)) % p\n",
    "        B = h^((p-1)/(q^e)) % p\n",
    "        xg = xgcd(A, p) # Extended Euclidean Algorithm\n",
    "        A_inv = (xg[1] % p + p) % p\n",
    "        # print(A, B)\n",
    "        x = []\n",
    "        lhs = A^(q^(e - 1)) % p \n",
    "        rhs = B^(q^(e - 1)) % p\n",
    "        for x0 in range(p):\n",
    "            if (pow(lhs, x0, p) == rhs % p):\n",
    "                x.append(x0)\n",
    "                break \n",
    "        for i in reversed(range(e - 1)):\n",
    "            degree = sum([x_i*q^j for x_i, j in zip(x, range(e - i))])\n",
    "            rhs = (B * (A_inv^degree % p))^(q^i) % p\n",
    "            for xi in range(p):\n",
    "                if (pow(lhs, xi, p) == rhs % p):\n",
    "                    x.append(xi)\n",
    "                    break\n",
    "        # print(x)\n",
    "        X.append(sum([x_i*q^j for x_i, j in zip(x, range(e))]))\n",
    "    # print(X, a)\n",
    "    x_sol = crt(X, a)\n",
    "    assert pow(g, x_sol, p) == h\n",
    "    return x_sol"
   ]
  },
  {
   "cell_type": "code",
   "execution_count": 52,
   "metadata": {},
   "outputs": [],
   "source": [
    "def PohligHellman_ShortCut(g, h , p):\n",
    "    order = p-1\n",
    "    factorList = list(factor(order))\n",
    "    X = []\n",
    "    for (q, e) in factorList:\n",
    "        _g = pow(g, order // q^e, p)\n",
    "        _B = pow(h, order // q^e, p)\n",
    "        X.append(discrete_log(_B, Mod(_g, p), ord = q^e))\n",
    "    res = crt(X, [q^e for q, e in factorList])\n",
    "    return res"
   ]
  },
  {
   "cell_type": "code",
   "execution_count": 55,
   "metadata": {},
   "outputs": [],
   "source": [
    "def test():\n",
    "    g = 7\n",
    "    p = 433\n",
    "    h = 166\n",
    "    x_1 = PohligHellman(g, h, p)\n",
    "    # x_2 = PohligHellman_ShortCut(g, h, p)\n",
    "    x_2 = discrete_log(h, Mod(g, p))\n",
    "    x_3 = PohligHellman_ShortCut(g, h, p)\n",
    "    print(x_3)\n",
    "    assert x_1 == x_2"
   ]
  }
 ],
 "metadata": {
  "kernelspec": {
   "display_name": "SageMath 9.6",
   "language": "sage",
   "name": "sagemath"
  },
  "language_info": {
   "codemirror_mode": {
    "name": "ipython",
    "version": 3
   },
   "file_extension": ".py",
   "mimetype": "text/x-python",
   "name": "python",
   "nbconvert_exporter": "python",
   "pygments_lexer": "ipython3",
   "version": "3.11.1"
  },
  "orig_nbformat": 4
 },
 "nbformat": 4,
 "nbformat_minor": 2
}
