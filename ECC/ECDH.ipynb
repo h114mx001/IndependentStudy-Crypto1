{
 "cells": [
  {
   "cell_type": "code",
   "execution_count": 4,
   "metadata": {},
   "outputs": [],
   "source": [
    "def discreteLogarithm(p, a, b, G, B, A):\n",
    "    '''\n",
    "        Discrete Logarithm for a curve that its parameter is smooth. \n",
    "        p: prime number \n",
    "        a, b: parameters of the curve\n",
    "        G: generator point\n",
    "        B: Bob's public key\n",
    "        A: Alice's public key\n",
    "    '''\n",
    "    E = EllipticCurve(GF(p), [a, b])\n",
    "    G = E(G)\n",
    "    B = E(B)\n",
    "    A = E(A)\n",
    "    b = G.discrete_log(B)\n",
    "    sharedSecret = (A*b).xy()[0]\n",
    "    return sharedSecret\n",
    "\n",
    "def test():\n",
    "    p = 310717010502520989590157367261876774703\n",
    "    a = 2 \n",
    "    b = 3\n",
    "    G = [179210853392303317793440285562762725654, 105268671499942631758568591033409611165]\n",
    "    B = [272640099140026426377756188075937988094, 51062462309521034358726608268084433317]\n",
    "    A = [280810182131414898730378982766101210916, 291506490768054478159835604632710368904]\n",
    "    print(discreteLogarithm(p, a, b, G, B, A))"
   ]
  },
  {
   "cell_type": "code",
   "execution_count": 6,
   "metadata": {},
   "outputs": [],
   "source": [
    "def _lift(E, P, gf):\n",
    "    # Using Hansel's point lifting.\n",
    "    x, y = map(ZZ, P.xy())\n",
    "    for point_ in E.lift_x(x, all=True):\n",
    "        _, y_ = map(gf, point_.xy())\n",
    "        if y == y_:\n",
    "            return point_ \n",
    "\n",
    "def attack(G, P):\n",
    "    '''\n",
    "        Solves discrete logarithm by Smart's Attack.\n",
    "        G: base point\n",
    "        P: a point that have such nP where nP*G == P\n",
    "        return: nP\n",
    "    '''\n",
    "    E = G.curve()\n",
    "    gf = E.base_ring()\n",
    "    p = gf.order()\n",
    "    assert E.trace_of_frobenius() == 1, f\"Curve should have trace of Frobenius = 1.\"\n",
    "\n",
    "    E = EllipticCurve(Qp(p), [int(a) + p * ZZ.random_element(1, p) for a in E.a_invariants()])\n",
    "    G = p * _lift(E, G, gf)\n",
    "    P = p * _lift(E, P, gf)\n",
    "    Gx, Gy = G.xy()\n",
    "    Px, Py = P.xy()\n",
    "    return int(gf((Px / Py) / (Gx / Gy)))"
   ]
  },
  {
   "cell_type": "code",
   "execution_count": 8,
   "metadata": {},
   "outputs": [
    {
     "name": "stdout",
     "output_type": "stream",
     "text": [
      "2200911270816846838022388357422161552282496835763864725672800875786994850585872907705630132325051034876291845289429009837283760741160188885749171857285407\n"
     ]
    }
   ],
   "source": [
    "# Small subgroup attack in ECDH\n",
    "# Given a curve E(F_p), we will transfer it to an additive group of F_p (aka finding group isomorphism)\n",
    "# Method using: Smart's Attack\n",
    "\n",
    "\n",
    "def test():\n",
    "    '''\n",
    "        Define the elliptic curve, public keys of both 2 parties \n",
    "    '''\n",
    "    p = 0xa15c4fb663a578d8b2496d3151a946119ee42695e18e13e90600192b1d0abdbb6f787f90c8d102ff88e284dd4526f5f6b6c980bf88f1d0490714b67e8a2a2b77\n",
    "    a = 0x5e009506fcc7eff573bc960d88638fe25e76a9b6c7caeea072a27dcd1fa46abb15b7b6210cf90caba982893ee2779669bac06e267013486b22ff3e24abae2d42\n",
    "    b = 0x2ce7d1ca4493b0977f088f6d30d9241f8048fdea112cc385b793bce953998caae680864a7d3aa437ea3ffd1441ca3fb352b0b710bb3f053e980e503be9a7fece\n",
    "    E = EllipticCurve(GF(p), [a, b])\n",
    "    G = E(3034712809375537908102988750113382444008758539448972750581525810900634243392172703684905257490982543775233630011707375189041302436945106395617312498769005,4986645098582616415690074082237817624424333339074969364527548107042876175480894132576399611027847402879885574130125050842710052291870268101817275410204850)\n",
    "    A = E(4748198372895404866752111766626421927481971519483471383813044005699388317650395315193922226704604937454742608233124831870493636003725200307683939875286865, 2421873309002279841021791369884483308051497215798017509805302041102468310636822060707350789776065212606890489706597369526562336256272258544226688832663757)\n",
    "    nA = attack(G, A) # Finding Alice private key \n",
    "    assert nA*G == A\n",
    "    print(nA)\n",
    "test()"
   ]
  }
 ],
 "metadata": {
  "kernelspec": {
   "display_name": "Python 3",
   "language": "python",
   "name": "python3"
  },
  "language_info": {
   "codemirror_mode": {
    "name": "ipython",
    "version": 3
   },
   "file_extension": ".py",
   "mimetype": "text/x-python",
   "name": "python",
   "nbconvert_exporter": "python",
   "pygments_lexer": "ipython3",
   "version": "3.11.1"
  },
  "orig_nbformat": 4,
  "vscode": {
   "interpreter": {
    "hash": "e7370f93d1d0cde622a1f8e1c04877d8463912d04d973331ad4851f04de6915a"
   }
  }
 },
 "nbformat": 4,
 "nbformat_minor": 2
}
